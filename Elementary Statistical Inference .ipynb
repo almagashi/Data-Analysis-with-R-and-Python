{
 "cells": [
  {
   "cell_type": "code",
   "execution_count": 56,
   "metadata": {},
   "outputs": [
    {
     "data": {
      "text/html": [
       "<div>\n",
       "<style scoped>\n",
       "    .dataframe tbody tr th:only-of-type {\n",
       "        vertical-align: middle;\n",
       "    }\n",
       "\n",
       "    .dataframe tbody tr th {\n",
       "        vertical-align: top;\n",
       "    }\n",
       "\n",
       "    .dataframe thead th {\n",
       "        text-align: right;\n",
       "    }\n",
       "</style>\n",
       "<table border=\"1\" class=\"dataframe\">\n",
       "  <thead>\n",
       "    <tr style=\"text-align: right;\">\n",
       "      <th></th>\n",
       "      <th>GPA</th>\n",
       "      <th>eating_out</th>\n",
       "    </tr>\n",
       "  </thead>\n",
       "  <tbody>\n",
       "    <tr>\n",
       "      <th>count</th>\n",
       "      <td>120.000000</td>\n",
       "      <td>120.000000</td>\n",
       "    </tr>\n",
       "    <tr>\n",
       "      <th>mean</th>\n",
       "      <td>3.415558</td>\n",
       "      <td>2.541667</td>\n",
       "    </tr>\n",
       "    <tr>\n",
       "      <th>std</th>\n",
       "      <td>0.390139</td>\n",
       "      <td>1.144191</td>\n",
       "    </tr>\n",
       "    <tr>\n",
       "      <th>min</th>\n",
       "      <td>2.200000</td>\n",
       "      <td>1.000000</td>\n",
       "    </tr>\n",
       "    <tr>\n",
       "      <th>25%</th>\n",
       "      <td>3.200000</td>\n",
       "      <td>2.000000</td>\n",
       "    </tr>\n",
       "    <tr>\n",
       "      <th>50%</th>\n",
       "      <td>3.500000</td>\n",
       "      <td>2.000000</td>\n",
       "    </tr>\n",
       "    <tr>\n",
       "      <th>75%</th>\n",
       "      <td>3.700000</td>\n",
       "      <td>3.000000</td>\n",
       "    </tr>\n",
       "    <tr>\n",
       "      <th>max</th>\n",
       "      <td>4.000000</td>\n",
       "      <td>5.000000</td>\n",
       "    </tr>\n",
       "  </tbody>\n",
       "</table>\n",
       "</div>"
      ],
      "text/plain": [
       "              GPA  eating_out\n",
       "count  120.000000  120.000000\n",
       "mean     3.415558    2.541667\n",
       "std      0.390139    1.144191\n",
       "min      2.200000    1.000000\n",
       "25%      3.200000    2.000000\n",
       "50%      3.500000    2.000000\n",
       "75%      3.700000    3.000000\n",
       "max      4.000000    5.000000"
      ]
     },
     "execution_count": 56,
     "metadata": {},
     "output_type": "execute_result"
    }
   ],
   "source": [
    "import pandas as pd # imports pandas library to analyze data\n",
    "foodcoded= pd.read_csv('food_coded.csv',na_values=['Unknown', 'Personal ','3.79 bitch'] ) # reads the csv file and labels the string data as not values \n",
    "\n",
    "eating_data = foodcoded[['GPA', 'eating_out']].dropna() # removes the non-valuable data\n",
    "\n",
    "\n",
    "\n",
    "eating_data.describe() # generate descriptive statistics\n",
    "\n",
    "\n",
    "\n",
    "\n"
   ]
  },
  {
   "cell_type": "code",
   "execution_count": 57,
   "metadata": {},
   "outputs": [
    {
     "name": "stdout",
     "output_type": "stream",
     "text": [
      "The mode of GPA is: 3.5\n",
      "The median of GPA is: 3.5\n",
      "The maximum GPA is: 4.0\n",
      "The minimum GPA is: 2.2\n",
      "The range of GPA is: 1.7999999999999998\n",
      "The standard deviation of GPA is: 0.38850994830320035\n",
      "The mean of the sample is: 3.4155583333333315\n",
      "The sample size is: 120\n"
     ]
    }
   ],
   "source": [
    "import numpy as np # imports the library as np\n",
    "\n",
    "from scipy import stats # imports stats from scipy \n",
    "\n",
    "mode1 = stats.mode(eating_data['GPA'])[0][0] # finds the mode of GPA in the dataframe from stats\n",
    "median1 = np.median (eating_data['GPA']) # finds the median of GPA in the dataframe from stats\n",
    "max1= max (eating_data['GPA'])  # finds the maximum value of GPA\n",
    "min1= min(eating_data ['GPA']) # finds the minimum value of GPA\n",
    "range1=max1-min1 # finds the range\n",
    "std1= np.std(eating_data['GPA']) # finds the standard deviation of GPA from numpy\n",
    "mean1=np.mean(eating_data['GPA']) # finds the mean of GPA from mean\n",
    "n= len(eating_data.GPA) # shows the sample size\n",
    "\n",
    "print('The mode of GPA is:', mode1) \n",
    "print('The median of GPA is:', median1)\n",
    "print('The maximum GPA is:',  max1)\n",
    "print('The minimum GPA is:', min1)\n",
    "print('The range of GPA is:', range1)\n",
    "print('The standard deviation of GPA is:', std1)\n",
    "print(\"The mean of the sample is:\", mean1)\n",
    "print('The sample size is:', n)"
   ]
  },
  {
   "cell_type": "code",
   "execution_count": 58,
   "metadata": {},
   "outputs": [
    {
     "name": "stdout",
     "output_type": "stream",
     "text": [
      "The mode of eating out is: 2\n",
      "The median of eating out is: 2.0\n",
      "The maximum eating out is: 5\n",
      "The minimum eating out is: 1\n",
      "The range of eating out is: 4\n"
     ]
    }
   ],
   "source": [
    "import numpy as np # imports stats from scipy\n",
    "\n",
    "from scipy import stats # imports stats from scipy \n",
    "\n",
    "mode2 = stats.mode(eating_data['eating_out'])[0][0] # finds the mode of eating out options in the dataframe from stats\n",
    "median2 = np.median (eating_data['eating_out']) # finds the median of eating out options in the dataframe from stats\n",
    "max2= max (eating_data['eating_out']) # finds the maximum value of eating out options\n",
    "min2= min(eating_data ['eating_out']) # finds the minimum value of eating out options\n",
    "range2=max2-min2  # finds the range of eating out \n",
    "\n",
    "print('The mode of eating out is:', mode2)\n",
    "print('The median of eating out is:', median2)\n",
    "print('The maximum eating out is:',  max2)\n",
    "print('The minimum eating out is:', min2)\n",
    "print('The range of eating out is:', range2)"
   ]
  },
  {
   "cell_type": "code",
   "execution_count": 68,
   "metadata": {},
   "outputs": [
    {
     "data": {
      "text/plain": [
       "Text(0.5,1,'Histogram')"
      ]
     },
     "execution_count": 68,
     "metadata": {},
     "output_type": "execute_result"
    },
    {
     "data": {
      "image/png": "[encoded data removed]",
      "text/plain": [
       "<Figure size 432x288 with 1 Axes>"
      ]
     },
     "metadata": {},
     "output_type": "display_data"
    }
   ],
   "source": [
    "# makes the graph appear within the notebook\n",
    "%matplotlib inline  \n",
    "plot=eating_data.GPA.hist() # plots the frequency of GPA\n",
    "plot.grid(False) # removes the gridlines\n",
    "plot.set_xlabel('GPA') # names the x-axis as GPA\n",
    "plot.set_ylabel('Frequency') # names the y-axis as Frequency\n",
    "plot.set_title('Histogram') # names the Histogram"
   ]
  },
  {
   "cell_type": "code",
   "execution_count": 82,
   "metadata": {},
   "outputs": [
    {
     "data": {
      "text/plain": [
       "Text(0.5,1,'Histogram')"
      ]
     },
     "execution_count": 82,
     "metadata": {},
     "output_type": "execute_result"
    },
    {
     "data": {
      "image/png": "[encoded data removed]",
      "text/plain": [
       "<Figure size 432x288 with 1 Axes>"
      ]
     },
     "metadata": {},
     "output_type": "display_data"
    }
   ],
   "source": [
    "# makes the graph appear within the notebook\n",
    "%matplotlib inline\n",
    "plot=eating_data.eating_out.hist(bins=100) # plots the frequency of Eating Out\n",
    "plot.grid(False)  # removes the gridlines\n",
    "plot.set_xlabel('Eating Out') # names the x-axis as Eating Out\n",
    "plot.set_ylabel('Frequency') # names the y-axis as Frequency\n",
    "plot.set_title('Histogram') # names the Histogram"
   ]
  },
  {
   "cell_type": "code",
   "execution_count": 30,
   "metadata": {},
   "outputs": [
    {
     "name": "stdout",
     "output_type": "stream",
     "text": [
      "1.980099876426006\n"
     ]
    }
   ],
   "source": [
    "df= len(eating_data)-1 # outputs the degrees of freedom\n",
    "t=stats.t.ppf(0.975, df) # calculates t-score\n",
    "print(t) \n"
   ]
  },
  {
   "cell_type": "code",
   "execution_count": 28,
   "metadata": {},
   "outputs": [
    {
     "name": "stdout",
     "output_type": "stream",
     "text": [
      "0.0016187914512633347\n"
     ]
    }
   ],
   "source": [
    "SE= std1 / (n)**1/2 # outputs standard error\n",
    "print(SE)"
   ]
  },
  {
   "cell_type": "code",
   "execution_count": 35,
   "metadata": {},
   "outputs": [
    {
     "name": "stdout",
     "output_type": "stream",
     "text": [
      "3.4123529645807253 3.4187637020859376\n"
     ]
    }
   ],
   "source": [
    "CI1= mean1+(SE*t) # outputs upper-bound confidence interval\n",
    "CI2= mean1-(SE*t) # outputs lower-bound confidence interval\n",
    "print(CI2, CI1)"
   ]
  },
  {
   "cell_type": "code",
   "execution_count": 70,
   "metadata": {},
   "outputs": [
    {
     "name": "stdout",
     "output_type": "stream",
     "text": [
      "      GPA  eating_out\n",
      "8    3.30           5\n",
      "29   3.50           5\n",
      "39   3.00           5\n",
      "52   3.30           5\n",
      "55   3.35           5\n",
      "60   3.60           5\n",
      "62   3.90           5\n",
      "82   3.70           5\n",
      "92   3.30           5\n",
      "98   3.90           5\n",
      "106  3.00           5\n",
      "123  3.00           5\n",
      "3.404166666666667\n",
      "0.3098778881358842\n",
      "12\n"
     ]
    }
   ],
   "source": [
    "everyday= eating_data[eating_data['eating_out']==5] # filters the sample and assigns it to a variable\n",
    "mean3= np.mean(everyday['GPA']) # calculates the mean of subset of data\n",
    "std3= np.std(everyday['GPA']) # calculates the standard deviation of the subset\n",
    "n3=len(everyday) # assigns the sample size to a variable\n",
    "print(everyday)\n",
    "print(mean3)\n",
    "print(std3)\n",
    "print(n3)\n"
   ]
  },
  {
   "cell_type": "code",
   "execution_count": 83,
   "metadata": {},
   "outputs": [
    {
     "data": {
      "text/plain": [
       "Text(0.5,1,'Histogram')"
      ]
     },
     "execution_count": 83,
     "metadata": {},
     "output_type": "execute_result"
    },
    {
     "data": {
      "image/png": "[encoded data removed]",
      "text/plain": [
       "<Figure size 432x288 with 1 Axes>"
      ]
     },
     "metadata": {},
     "output_type": "display_data"
    }
   ],
   "source": [
    "# makes the graph appear within the notebook\n",
    "%matplotlib inline\n",
    "plot=everyday.GPA.hist() #plots the GPA frequency from the subset\n",
    "plot.set_xlabel('GPA') # names the x-axis GPA\n",
    "plot.set_ylabel('Frequency') # names the y-axis Frequency\n",
    "plot.set_title('Histogram') # puts a title for the histogram"
   ]
  },
  {
   "cell_type": "code",
   "execution_count": 84,
   "metadata": {},
   "outputs": [
    {
     "name": "stdout",
     "output_type": "stream",
     "text": [
      "       GPA  eating_out\n",
      "0    2.400           3\n",
      "1    3.654           2\n",
      "2    3.300           2\n",
      "3    3.200           2\n",
      "4    3.500           2\n",
      "5    2.250           1\n",
      "6    3.800           2\n",
      "7    3.300           2\n",
      "9    3.300           3\n",
      "10   3.500           2\n",
      "11   3.904           1\n",
      "12   3.400           1\n",
      "13   3.600           4\n",
      "14   3.100           2\n",
      "16   4.000           1\n",
      "17   3.600           2\n",
      "18   3.400           3\n",
      "19   2.200           2\n",
      "20   3.300           4\n",
      "21   3.870           1\n",
      "22   3.700           1\n",
      "23   3.700           2\n",
      "24   3.900           4\n",
      "25   2.800           2\n",
      "26   3.700           2\n",
      "27   3.000           2\n",
      "28   3.200           2\n",
      "30   4.000           3\n",
      "31   4.000           2\n",
      "32   3.400           3\n",
      "..     ...         ...\n",
      "89   3.200           2\n",
      "90   3.680           2\n",
      "91   3.800           3\n",
      "93   3.200           2\n",
      "94   3.750           2\n",
      "95   3.500           2\n",
      "96   3.920           2\n",
      "97   3.900           2\n",
      "99   3.200           3\n",
      "100  3.500           2\n",
      "101  3.400           2\n",
      "103  3.700           2\n",
      "105  3.000           3\n",
      "107  3.800           2\n",
      "108  3.800           2\n",
      "109  3.400           3\n",
      "110  3.700           4\n",
      "111  2.900           2\n",
      "112  3.900           4\n",
      "113  3.600           3\n",
      "114  2.800           3\n",
      "115  3.300           2\n",
      "116  3.400           4\n",
      "117  3.770           2\n",
      "118  3.630           2\n",
      "119  3.200           2\n",
      "120  3.500           2\n",
      "121  3.000           4\n",
      "122  3.882           3\n",
      "124  3.900           1\n",
      "\n",
      "[108 rows x 2 columns]\n",
      "3.416824074074073\n",
      "0.3962646849412022\n",
      "108\n"
     ]
    }
   ],
   "source": [
    "not_everyday= eating_data[eating_data['eating_out']!=5] # creates a subset of data \n",
    "mean4= np.mean(not_everyday['GPA']) # calculates the mean of the subset\n",
    "std4= np.std(not_everyday['GPA']) # calculates the standard deviation of the subset\n",
    "n4=len(not_everyday) # the sample size\n",
    "print(not_everyday)\n",
    "print(mean4)\n",
    "print(std4)\n",
    "print(n4)\n"
   ]
  },
  {
   "cell_type": "code",
   "execution_count": 85,
   "metadata": {},
   "outputs": [
    {
     "data": {
      "text/plain": [
       "Text(0.5,1,'Histogram')"
      ]
     },
     "execution_count": 85,
     "metadata": {},
     "output_type": "execute_result"
    },
    {
     "data": {
      "image/png": "[encoded data removed]",
      "text/plain": [
       "<Figure size 432x288 with 1 Axes>"
      ]
     },
     "metadata": {},
     "output_type": "display_data"
    }
   ],
   "source": [
    "# makes matplotlib visualization appear inline\n",
    "%matplotlib inline \n",
    "plot=not_everyday.GPA.hist() # plots the gpa frequency of the subset\n",
    "plot.set_xlabel('GPA') # names x-axis\n",
    "plot.set_ylabel('Frequency') # names the y-axis\n",
    "plot.set_title('Histogram') # sets a title to the histogram"
   ]
  },
  {
   "cell_type": "code",
   "execution_count": 89,
   "metadata": {},
   "outputs": [
    {
     "name": "stdout",
     "output_type": "stream",
     "text": [
      "t_score: 0.13016426849281906\n",
      "p_value 0.44939313870851894\n"
     ]
    }
   ],
   "source": [
    "null_value = 0 # sets the null value to 0 as if mean 4 and mean 3 were the same\n",
    "point_estimate = mean4 - mean3 # point estimate is the difference of means considering that they are not the same\n",
    "SE1 = (std4**2/n4 + std3**2/n3)**0.5 # calculates the estimates standard error\n",
    "t_score = (point_estimate - null_value) / SE1 # calculates the t-score\n",
    "print('t_score:', t_score) \n",
    "df = min(n4,n3) - 1 #calulates the degrees of freedom\n",
    "p_value= stats.t.sf(t_score, df) # calculates the p-value\n",
    "print('p_value', p_value)"
   ]
  },
  {
   "cell_type": "code",
   "execution_count": 91,
   "metadata": {},
   "outputs": [
    {
     "name": "stdout",
     "output_type": "stream",
     "text": [
      "Cohen's D 0.38902330240417354\n",
      "Hedge's G 0.3887977816491566\n"
     ]
    }
   ],
   "source": [
    "# Cohen's d tests practical difference\n",
    "d =  (((n4 - 1)*(std4**2) + (n3-1)*(std3**2))/(n3+n4-2))**0.5\n",
    "print(\"Cohen's D\", d)\n",
    "# use hedge's d to correct cohen's d\n",
    "g = d * (1 -3/(4* (n3 * n4) - 9))\n",
    "print(\"Hedge's G\",g)"
   ]
  },
  {
   "cell_type": "code",
   "execution_count": null,
   "metadata": {},
   "outputs": [],
   "source": []
  }
 ],
 "metadata": {
  "kernelspec": {
   "display_name": "Python 3",
   "language": "python",
   "name": "python3"
  },
  "language_info": {
   "codemirror_mode": {
    "name": "ipython",
    "version": 3
   },
   "file_extension": ".py",
   "mimetype": "text/x-python",
   "name": "python",
   "nbconvert_exporter": "python",
   "pygments_lexer": "ipython3",
   "version": "3.6.5"
  }
 },
 "nbformat": 4,
 "nbformat_minor": 2
}
