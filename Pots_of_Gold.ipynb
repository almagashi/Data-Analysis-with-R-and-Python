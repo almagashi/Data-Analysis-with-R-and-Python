{
  "nbformat": 4,
  "nbformat_minor": 0,
  "metadata": {
    "colab": {
      "name": " Pots of Gold",
      "provenance": [],
      "collapsed_sections": [],
      "include_colab_link": true
    },
    "kernelspec": {
      "name": "python3",
      "display_name": "Python 3"
    }
  },
  "cells": [
    {
      "cell_type": "markdown",
      "metadata": {
        "id": "view-in-github",
        "colab_type": "text"
      },
      "source": [
        "<a href=\"https://colab.research.google.com/github/almagashi/Data-Analysis-with-R-and-Python/blob/master/Pots_of_Gold.ipynb\" target=\"_parent\"><img src=\"https://colab.research.google.com/assets/colab-badge.svg\" alt=\"Open In Colab\"/></a>"
      ]
    },
    {
      "cell_type": "markdown",
      "metadata": {
        "id": "-3IYnyh7ujsG",
        "colab_type": "text"
      },
      "source": [
        "##Top-down approach:\n",
        "\n"
      ]
    },
    {
      "cell_type": "markdown",
      "metadata": {
        "id": "PZYw0zLQ5iG3",
        "colab_type": "text"
      },
      "source": [
        "Time complexity: O(2^n)"
      ]
    },
    {
      "cell_type": "code",
      "metadata": {
        "id": "hz81hJZiuGjU",
        "colab_type": "code",
        "outputId": "5c976667-4022-4ae3-facd-909419e78bed",
        "colab": {
          "base_uri": "https://localhost:8080/",
          "height": 50
        }
      },
      "source": [
        "def optimalStrategy(coins, i, j):\n",
        "  '''\n",
        "  Recursive function to maximize the number of coins collected\n",
        "  by a player, assuming that opponent also plays optimally\n",
        "  '''\n",
        "\n",
        "  # base case: one pot left, only one choice possible\n",
        "  if i == j:\n",
        "      return coins[i]\n",
        "\n",
        "  # if we're left with only two pots, choose one with maximum coins\n",
        "  if (i + 1) == j:\n",
        "      return max(coins[i], coins[j])\n",
        "\n",
        "  # if player chooses front pot i, opponent is left to choose\n",
        "  # from [i+1, j].\n",
        "  # 1. if opponent chooses front pot i+1, recur for [i+2, j]\n",
        "  # 2. if opponent chooses rear pot j, recur for [i+1, j-1]\n",
        "  start = coins[i] + min(optimalStrategy(coins, i+2, j),\n",
        "                        optimalStrategy(coins, i+1, j-1))\n",
        "  \n",
        "  # if player chooses rear pot j, opponent is left to choose\n",
        "  # from [i, j-1].\n",
        "  # 1. if opponent chooses front pot i, recur for [i+1, j-1]\n",
        "  # 2. if opponent chooses rear pot j-1, recur for [i, j-2]\n",
        "  end = coins[j] + min(optimalStrategy(coins, i+1, j-1),\n",
        "                        optimalStrategy(coins, i, j-2))\n",
        "  \n",
        "  # return maximum of two choices\n",
        "  return max(start, end)\n",
        "\n",
        "coins = ( 4, 6, 2, 3, 8, 2, 1)\n",
        "print(\"Maximum coins collected by player is\", \n",
        "      optimalStrategy(\n",
        "          coins, \n",
        "          0,\n",
        "          len(coins)-1\n",
        "          )\n",
        "      )\n",
        "print (\"The other player collects\", sum(coins) -  optimalStrategy(coins, 0, len(coins)-1), \"coins\")"
      ],
      "execution_count": 0,
      "outputs": [
        {
          "output_type": "stream",
          "text": [
            "Maximum coins collected by player is 12\n",
            "The other player collects 14 coins\n"
          ],
          "name": "stdout"
        }
      ]
    },
    {
      "cell_type": "markdown",
      "metadata": {
        "id": "qTzd_c2v6NqW",
        "colab_type": "text"
      },
      "source": [
        "Time Complexity: O(n^2)"
      ]
    },
    {
      "cell_type": "code",
      "metadata": {
        "id": "h36q6VU4uBo8",
        "colab_type": "code",
        "outputId": "bb0c1979-af35-4dd9-fed2-3c3182cf0959",
        "colab": {
          "base_uri": "https://localhost:8080/",
          "height": 50
        }
      },
      "source": [
        "def pots_of_gold(coin):\n",
        "    if not coin:\n",
        "        return 0\n",
        "\n",
        "    dp = [[0] * len(coin) for _ in range(len(coin))] # n-times\n",
        "    return optimal_strategy(coin, 0, len(coin) - 1, dp)\n",
        "\n",
        "\n",
        "def optimal_strategy(coin, i, j, dp):\n",
        "\n",
        "    # base case: One pot left\n",
        "    if i == j:\n",
        "        return coin[i]\n",
        "\n",
        "    # 2 pots left\n",
        "    if i + 1 == j:\n",
        "        return max(coin[i], coin[j])\n",
        "\n",
        "    if dp[i][j] == 0:\n",
        "        # CASE 1\n",
        "        start = coin[i] + min(optimal_strategy(coin, i + 2, j, dp), optimal_strategy(coin, i + 1, j - 1, dp)) # n-times\n",
        "\n",
        "        # CASE 2\n",
        "        end = coin[j] + min(optimal_strategy(coin, i + 1, j - 1, dp), optimal_strategy(coin, i, j - 2, dp)) # n-times\n",
        "\n",
        "        dp[i][j] = max(start, end)\n",
        "\n",
        "    # return the subproblem solution\n",
        "    return dp[i][j]\n",
        "\n",
        "if __name__ == '__main__':\n",
        "    coin = [4, 6, 2, 3]\n",
        "    print (pots_of_gold(coin)) \n",
        "\n",
        "    coin = [3, 9, 1, 2]\n",
        "    print (pots_of_gold(coin))\n",
        "    "
      ],
      "execution_count": 0,
      "outputs": [
        {
          "output_type": "stream",
          "text": [
            "9\n",
            "11\n"
          ],
          "name": "stdout"
        }
      ]
    },
    {
      "cell_type": "markdown",
      "metadata": {
        "id": "jf-qpl9F6VgF",
        "colab_type": "text"
      },
      "source": [
        "# Bottom-up Approach:"
      ]
    },
    {
      "cell_type": "code",
      "metadata": {
        "id": "LwoEOjo86Yrb",
        "colab_type": "code",
        "colab": {}
      },
      "source": [
        ""
      ],
      "execution_count": 0,
      "outputs": []
    }
  ]
}