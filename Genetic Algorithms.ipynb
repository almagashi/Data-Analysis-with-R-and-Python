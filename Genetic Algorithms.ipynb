{
 "cells": [
  {
   "cell_type": "markdown",
   "metadata": {
    "colab_type": "text",
    "id": "2r8WRqUvi9pP"
   },
   "source": [
    "## Part 1: Genetic Regression Algorithm  \n",
    "\n",
    "This portion of the assignment checks your understanding of Python code and algorithmic thinking. Your notebook contains a set of very poorly documented python functions. These functions attempt to use a genetic algorithm to find the regression line for a dataset by looking for the two coefficients of the line. For each function, you’ll write comments explaining what the function does step-by-step, and the roles they play in the genetic algorithm. You will have to spend a considerable amount of time playing with the code! Check out the Python tips section for helpful strategies.\n",
    "\n",
    "### 1. Function Description [#algorithms, optimization]\n",
    "\n",
    "#### 1.1 For each of the functions **A to E**, add in-line comments to explain what the code is doing line-by-line. In addition to in-line comments, write a few sentences that address the following points. (50-100 words per annotation).\n",
    "\n",
    "* Identify the aspect of a genetic algorithm that the function pertains to and explain why this aspect is important for optimization.  \n",
    "\n",
    "* Describe how the function accomplishes its task.  \n",
    "\n",
    "* Specify the inputs, outputs, and any major data structures involved.  \n",
    "\n",
    "\n",
    "#### 1.2 Missing function: Function F currently does nothing. Use a process of elimination to determine, then describe, which common element of a genetic algorithm is missing from this program and could become F. Detail why this element of the algorithm is important for finding an optimal solution. Then, fill in function F with working code that accomplishes this task and explain how it works.\n",
    "\n",
    "#### 1.3 Be sure to also consider the “main program” portion of the code. Add comments and explain what this part does and how it connects to the functions."
   ]
  },
  {
   "cell_type": "code",
   "execution_count": 108,
   "metadata": {
    "colab": {},
    "colab_type": "code",
    "id": "btPK66Coi9pQ"
   },
   "outputs": [],
   "source": [
    "### Genetic algorithm to fit a regression line of the form y=ax+b to a 2-variable dataset\n",
    "\n",
    "# import the needed packages from the library\n",
    "import random\n",
    "import numpy as np\n",
    "\n",
    "# load the data\n",
    "# names the data in a variable to call it more easily\n",
    "my_data_file = 'temp_data.npy' \n",
    "# loads the data from my_data_file to data\n",
    "data = np.load(my_data_file) \n",
    "\n",
    "# parameters\n",
    "initial_pop_size = 100 # the initial populations size\n",
    "mutation_rate = 0.05 # the mutation rate in the chromosome\n",
    "num_generations = 10  # the number of generations\n",
    "chromosome_length = 2 # the length of chromosomes\n",
    "num_survivors = 50 # the number of survivors in each generation"
   ]
  },
  {
   "cell_type": "code",
   "execution_count": 109,
   "metadata": {
    "colab": {},
    "colab_type": "code",
    "id": "pgSADUyoi9pU"
   },
   "outputs": [],
   "source": [
    "\n",
    "def A():\n",
    "    # function A produces an evenly spaced 5000 elements array from the range[-1,80]\n",
    "    gene_pool = np.linspace(-1,80,num = 5000)\n",
    "    # describes the initial population's dimension\n",
    "    dimensions = (initial_pop_size, chromosome_length)\n",
    "    # return a random sample which is taken from gene_pool, with no replacement\n",
    "    return np.random.choice(gene_pool, size=dimensions, replace=False)"
   ]
  },
  {
   "cell_type": "markdown",
   "metadata": {
    "colab_type": "text",
    "id": "wiL8sE9Qi9pX"
   },
   "source": [
    "**Function A**:\n",
    "* Since, the genetic algorithms needs an initial population, this function generates the population that will be used for every evolution. As the evolutions happen, better solutions will be formed until the most optimal is found.\n",
    "* This function produces a set of values that are evenly distributed between [-1,80], by using the product of initial population size and chromosome length.\n",
    "* This function takes no input, and returns the array of initial population. Major data structure is lists/arrays."
   ]
  },
  {
   "cell_type": "code",
   "execution_count": 110,
   "metadata": {
    "colab": {},
    "colab_type": "code",
    "id": "BbTmkKXWi9pY"
   },
   "outputs": [],
   "source": [
    "def B(coefficients):\n",
    "    # the number of training data points\n",
    "    k = len(data)\n",
    "    # the initial value of sum of squared residuals\n",
    "    tot = 0\n",
    "    # creates a loop to iterate for the dataset and add to the list\n",
    "    for j in range(k):\n",
    "        # the model equation, where data[j,0] represents x-value\n",
    "        y = coefficients[0] * data[j,0] + coefficients[1]\n",
    "        # finds the residuals for the given data\n",
    "        res = data[j,1] - y\n",
    "        # adds the squared-residuals to the prior list tot\n",
    "        tot += res**2\n",
    "        # returns the average of residuals\n",
    "    return tot/k"
   ]
  },
  {
   "cell_type": "markdown",
   "metadata": {
    "colab_type": "text",
    "id": "Pp1T_mFCi9pb"
   },
   "source": [
    "**Function B:**\n",
    "* This function is used to find the value of squared residuals in the dataset, because we need to minimize them to the least sum of squared residuals to have a better fitness line.\n",
    "* The iteration is used to check over the training data and compare the output values with expected values, found from the equation y=ax+b. The residuals are squared and sumed up. The function, then, returns the average of residuals by dividing the total sum over the data size.\n",
    "* The input is coefficients, the output is the average of the residuals (numerical value to measure the fitness of the function). The data structure used is arrays, the data type of the dataset.\n"
   ]
  },
  {
   "cell_type": "code",
   "execution_count": 111,
   "metadata": {
    "colab": {},
    "colab_type": "code",
    "id": "xtJndQcWi9pc"
   },
   "outputs": [],
   "source": [
    "def C():\n",
    "    # starts an empty list of fit individuals\n",
    "    fitlist = []\n",
    "    # iterates in the range of the population\n",
    "    for x in range(len(current_pop)):\n",
    "        # adds the values and its errors (residuals)\n",
    "        fitlist.append(np.array([x,B(current_pop[x])]))\n",
    "        # prints the fit individuals list (fitness)\n",
    "    return np.array(fitlist)"
   ]
  },
  {
   "cell_type": "markdown",
   "metadata": {
    "colab_type": "text",
    "id": "omKXqXQPi9pf"
   },
   "source": [
    "**Function C:**\n",
    "* This function returns the fitness list from the current population, needed to find the best coefficients.\n",
    "* This function uses the previous function B and the currrent population to add it to the fitness list.\n",
    "* Fitness has no inputs, and it outputs the fitness list of the current population. The input is not needed becuase this function uses the current population in the iteration. The data structure is arrays/lists."
   ]
  },
  {
   "cell_type": "code",
   "execution_count": 112,
   "metadata": {
    "colab": {},
    "colab_type": "code",
    "id": "R7akJrFxi9pg"
   },
   "outputs": [],
   "source": [
    "def D():\n",
    "    # this variable stores random selection of number of survivors divided by two into an array, with no replacement\n",
    "    random_selection = np.random.choice(range(len(fitness_vector)), num_survivors//2, replace=False)\n",
    "    # the smallest residuals from the randomly selected numbers of survivors\n",
    "    best = np.argmin(fitness_vector[random_selection,1])\n",
    "    # finds the index number from the fitness_vector\n",
    "    best_index = random_selection[best]\n",
    "    # returns the value from the current population that has the fittest individuals\n",
    "    return current_pop[int(fitness_vector[best_index][0])]    "
   ]
  },
  {
   "cell_type": "markdown",
   "metadata": {
    "colab_type": "text",
    "id": "MqIN7T8Ci9pi"
   },
   "source": [
    "**Function D:**\n",
    "* This function is used to find the fittest individuals from randomly chosen group of the actual population. The population will perform better (evolve), by choosing the survivors.\n",
    "* This function uses numpy for selecting individuals randomly, and finds the minimum value of errors in the random group. Then, it puts the information back to the actual population.\n",
    "* Function D has no inputs. It returns the best value (fittest individuals) from the random group taken from current population. Data structure is lists/arrays.\n"
   ]
  },
  {
   "cell_type": "code",
   "execution_count": 113,
   "metadata": {
    "colab": {},
    "colab_type": "code",
    "id": "ZahYoYiSi9pj"
   },
   "outputs": [],
   "source": [
    "def E():\n",
    "    # find the genes to be duplicated\n",
    "    duplicate_size = len(new_population) - len(survivors)\n",
    "    # creates a new array of zeros \n",
    "    duplicate_survivors = np.zeros((duplicate_size, chromosome_length))\n",
    "    # for each column in the survivor array\n",
    "    for x in range(chromosome_length): \n",
    "        # duplicate column 4 times\n",
    "        duplicate_survivors[:, x] = np.repeat(survivors[:, x], 4, axis=0) \n",
    "        # mixes randomly the column of duplicated survivors\n",
    "        duplicate_survivors[:, x] = np.random.permutation(duplicate_survivors[:, x])\n",
    "        # returns the duplicated survivors\n",
    "    return duplicate_survivors"
   ]
  },
  {
   "cell_type": "markdown",
   "metadata": {
    "colab_type": "text",
    "id": "-Ezqn5f-i9po"
   },
   "source": [
    "**Function E:**\n",
    "* This function produces the randomly permuted list of duplicated survivors. The duplication happens as many times as needed, because the population that survives is smaller in size than the one that survived, therefore we need to fill out the space for the population that did not survive. It is randomly permuted to minimize the chance of randomness.\n",
    "* The function first identifies the genes to be duplicated, and then it creates a new array of zeros. The iteration duplicates the survivors 4 times and it mixes them randomly. \n",
    "* This function has no inputs, and it outputs the randomly permuted list of duplicated survivors. The data structure is array."
   ]
  },
  {
   "cell_type": "code",
   "execution_count": 114,
   "metadata": {
    "colab": {},
    "colab_type": "code",
    "id": "-peBLqMji9pp"
   },
   "outputs": [],
   "source": [
    "def F(array): \n",
    "# the number of chromosomes to be mutated\n",
    "    chromosomes_mutated = int(100*mutation_rate)\n",
    "# iterate for the mutated chromosomes\n",
    "    for i in range(chromosomes_mutated):\n",
    "# randomly chooses the chromosome to be mutated\n",
    "        mutation = np.random.randint(0, 250)\n",
    "# change the first gene by choosing a random number from evenly distributed range\n",
    "        array[mutation][0]= np.random.uniform(-1,80)\n",
    " # print(array[0])\n",
    "    return array"
   ]
  },
  {
   "cell_type": "markdown",
   "metadata": {
    "colab_type": "text",
    "id": "O6JL7-QCi9ps"
   },
   "source": [
    "**Function F:**\n",
    "* This function is used to produce mutation. This function only chooses some chromosomes to change their first gene from initial value to another randomly chosen value from the range [-1,80].\n",
    "* This function uses a for-loop to change the first gene in the range of the number of the chromosomes to be mutated. Therefore, random.randint from np is  used to produce a random number of the chromosomes to be mutated, and random.uniform is used to change the first gene of the chromosomes to be mutated.\n",
    "* The input is the initial array, while the output is the mutated array. The major data structure used is arrays."
   ]
  },
  {
   "cell_type": "code",
   "execution_count": 115,
   "metadata": {
    "colab": {},
    "colab_type": "code",
    "id": "ejgKKFfXi9pt"
   },
   "outputs": [
    {
     "name": "stdout",
     "output_type": "stream",
     "text": [
      "The best solution is [ 0.31246249 67.99339868]\n",
      "with error equal to approximately 70.98219540698614\n"
     ]
    }
   ],
   "source": [
    "########################################################################\n",
    "# Start of main program\n",
    "current_pop = A()\n",
    "# get the new population from function A\n",
    "new_population = np.zeros((num_survivors * 5, chromosome_length))\n",
    "\n",
    "\n",
    "# main loop\n",
    "for i in range(num_generations):    \n",
    "    # it assign an array to function C (fitness values)\n",
    "    \n",
    "    fitness_vector = C()\n",
    "    # create an array filled with 0, which will be replaced by survivors\n",
    "    survivors = np.zeros((num_survivors, chromosome_length))\n",
    "    # iteration to choose one survivor per iteration\n",
    "    for n in range(len(survivors)):\n",
    "# selection of survivors\n",
    "        survivors[n] = D()\n",
    "# a portion of new populations is filled with survivors\n",
    "    new_population[:len(survivors)] = survivors\n",
    "# the other part of the new population is filled with randomly permuted chromosomes\n",
    "    new_population[len(survivors):] = E()\n",
    "\n",
    "# some chromosomes from the new population get mutated\n",
    "    new_population = F(new_population)\n",
    "# new population is assigned to current population, to create room for new generation    \n",
    "    current_pop = new_population\n",
    "# creates an array filled with 0, to replace it with chromosomes of new generation\n",
    "    new_population = np.zeros((num_survivors * 5, chromosome_length))\n",
    "# an array that contains a fitness scores for the last generation\n",
    "fitness_vector = C()\n",
    "# chooses the best chromosomes from the last generation, smallest ssr\n",
    "best_solution = current_pop[np.argmin(fitness_vector[:,1])]\n",
    "print(\"The best solution is\", best_solution)\n",
    "print(\"with error equal to approximately\", B(best_solution))"
   ]
  },
  {
   "cell_type": "markdown",
   "metadata": {
    "colab_type": "text",
    "id": "bud3Sc2Bi9pv"
   },
   "source": [
    "**Description of the code:**\n",
    "\n",
    "* This code uses 5 functions to produce a genetic algorithm, by training from the training data. \n",
    "\n",
    "    1. Firstly, it uses the Function A to initialize a population.\n",
    "    2. Secondly, it uses Function C as the fitness population from the random group.\n",
    "    3. Thirdly, it uses the Function D to find the parameters which have the least avergae of sum of squared of residuals (errors).\n",
    "    4. Then it uses Function E to duplicate the survivors 5 times, because the population of survivors is smaller than the population of the agents that did not survive.\n",
    "    5. It uses Function F to describe the mutation and children for the next generation. \n",
    "\n",
    "* At the end it outputs the best parameter and its error by using the help of the Function B to estimate the error."
   ]
  },
  {
   "cell_type": "code",
   "execution_count": 116,
   "metadata": {
    "colab": {},
    "colab_type": "code",
    "id": "0StffJhLi9px"
   },
   "outputs": [
    {
     "name": "stdout",
     "output_type": "stream",
     "text": [
      "(0.5399259393210745, 70.70997220684585)\n"
     ]
    }
   ],
   "source": [
    "# scipy regression function to compare with the genetic algorithm's solutions\n",
    "from scipy import stats\n",
    "print(stats.linregress(data)[0:2])"
   ]
  },
  {
   "cell_type": "markdown",
   "metadata": {
    "colab_type": "text",
    "id": "x_kVsOp4i9py"
   },
   "source": [
    "### 2. Overview [#optimization, #algorithms, #regression]\n",
    "\n",
    "#### 2.1 Write a paragraph to explain what the parameters at the top of the script are. By experimenting with varying parameter values, determine what values produce solutions that are closest to the actual solution most efficiently. Why do you think this is?  [~200 words]\n",
    "\n",
    "\n",
    "\n"
   ]
  },
  {
   "cell_type": "markdown",
   "metadata": {
    "colab_type": "text",
    "id": "Cxh_f3oji9p0"
   },
   "source": [
    "* The parameters are intial_pop_size, mutation_rate, num_generations, num_survivors and chromosome_length.\n",
    "    1. initial_pop_size: describes the size of the population, which will be used in the algorithm (100, in this algorithm).\n",
    "    2. mutation_rate: describes the rates of mutations from the parents that are expected to happen in the next generation. The mutation rate is set at default 5% to create diversity in the population. \n",
    "    3. num_generations: describes the number of the generations. Having a bigger number of the generations will produce more accurate outputs. \n",
    "    4. num_survivors: describes the number of the survivors that are selected from the previous generations. This defines how many \"parents\" survive and reproduce. Choosing the best fitness value is important to create a population that will survive with more individuals.\n",
    "    5. chromosome_length: describes the length of the chromosome, the number of genes in one chromosome. In this case, it is 2 genes. This is why we use a linear regression model. \n",
    "* The values that produce solutions closest to the actual solution most efficiently are the ones closest to the actual data, because then, we will be able to find the global optimum with the smallest error rate.\n",
    "\n",
    "    "
   ]
  },
  {
   "cell_type": "markdown",
   "metadata": {
    "colab_type": "text",
    "id": "27ohUCt4i9p0"
   },
   "source": [
    "\n",
    "#### 2.2 Write a paragraph that gives an overview of how this program solves the given task and what the output represents.  [~200 words]"
   ]
  },
  {
   "cell_type": "markdown",
   "metadata": {
    "colab_type": "text",
    "id": "A1ZXhbUNi9p1"
   },
   "source": [
    "This program is an example of genetic algorithm, which outputs the most optimal solution by using random population. It learns from trial and error, by trying the solutions and based on the error rate, it eliminates the bad solutions. It starts with a random gene pool. For every generation, it selects the individuals with least sum of squared residuals. Because the error rate is not 0 and the algorithm attempts the global optimum, some individuals with small least sum of squared residuals are killed as well as some with high least sum of squared residuals survive. After that selection, there is still a mutation rate for the \"products/children\" of the survivors. After many trials, the algorithm will be better at predicting the actual data and decreasing the error rate. The output of this algorithm is based on the linear regression model, outputing a and b (two coefficients, the coefficient for x and the slope coefficient), as well as the error of the model, which informs the overall performance of the algorithm."
   ]
  },
  {
   "cell_type": "markdown",
   "metadata": {
    "colab_type": "text",
    "id": "yctx4pKdi9p2"
   },
   "source": [
    "### 3. Optional challenges (basic):\n",
    "\n",
    "For any attempted optional challenge, also indicate which HC(s) you are applying and why your solution constitutes a strong application.\n",
    "\n",
    "#### 3.1 Modify the program to include a visualization of how the error/fitness changes with each subsequent generation. Interpret this however you like, but make sure to include a detailed explanation.\n"
   ]
  },
  {
   "cell_type": "markdown",
   "metadata": {
    "colab_type": "text",
    "id": "Dg5Hjm0Oi9p3"
   },
   "source": [
    "Edit this cell to answer part 3.1"
   ]
  },
  {
   "cell_type": "markdown",
   "metadata": {
    "colab_type": "text",
    "id": "JAjvi6Cti9p4"
   },
   "source": [
    "\n",
    "#### 3.2 Optimize the code: There are many aspects of the code that could be improved. Choose one part of the code and describe in as much detail as possible a way in which it can be optimized. Then, implement your optimization. Be clear about what you are optimizing for and how your proposal accomplishes this. "
   ]
  },
  {
   "cell_type": "markdown",
   "metadata": {
    "colab_type": "text",
    "id": "vV0e3fm3i9p4"
   },
   "source": [
    "Edit this cell to answer part 3.2"
   ]
  },
  {
   "cell_type": "markdown",
   "metadata": {
    "colab_type": "text",
    "id": "hcW2Szp8i9p5"
   },
   "source": [
    "### 4. Optional challenges (more advanced):\n",
    "For any attempted optional challenge, also indicate which HC(s) you are applying and why your solution constitutes a strong application.\n",
    "\n",
    "#### 4.1 Modify the program to do multiple variable regression; that is, allow more predictor variables and find the regression equation that best fits the data. This needs to include first finding a dataset to test the program on and comparing the results of your algorithm to those that can be produced with a library regression function.\n"
   ]
  },
  {
   "cell_type": "markdown",
   "metadata": {
    "colab_type": "text",
    "id": "L0uNlaF3i9p6"
   },
   "source": [
    "Edit this cell to answer part 4.1"
   ]
  },
  {
   "cell_type": "markdown",
   "metadata": {
    "colab_type": "text",
    "id": "S61T1sA0i9p7"
   },
   "source": [
    "#### 4.2 Write your own genetic algorithm from scratch to find the regression line for a two-variable dataset, using different data structures and different functions than the code provided. This requires thorough explanation, sufficiently detailed so that another student could understand your algorithm.\n",
    "\n",
    "\n"
   ]
  },
  {
   "cell_type": "markdown",
   "metadata": {
    "colab_type": "text",
    "id": "jxEQlSmVi9p9"
   },
   "source": [
    "Edit this cell to answer part 4.2"
   ]
  },
  {
   "cell_type": "markdown",
   "metadata": {
    "colab_type": "text",
    "id": "I_GvHFjqi9p_"
   },
   "source": [
    "#### 4.3 Write your own algorithm to find the line of best fit for a two-variable dataset using a perceptron. As above, the explanations of your code need to be sufficiently detailed so that another student could understand it."
   ]
  },
  {
   "cell_type": "markdown",
   "metadata": {
    "colab_type": "text",
    "id": "yFCx8_msi9p_"
   },
   "source": [
    "Edit this cell to answer part 4.3"
   ]
  },
  {
   "cell_type": "markdown",
   "metadata": {
    "colab_type": "text",
    "id": "08MD-DVzi9qA"
   },
   "source": [
    "## Part 2: Lotka-Volterra Simulation\n",
    "\n",
    "In this portion of the assignment, you will produce code that uses Euler’s method to implement a simulation of the solutions of the Lotka-Volterra equations. In addition to providing more practice in Python programming, this project challenges you to understand numerical methods for solving differential equations, which will lead to a deeper understanding of these models."
   ]
  },
  {
   "cell_type": "markdown",
   "metadata": {
    "colab_type": "text",
    "id": "JqPEjbSwi9qA"
   },
   "source": [
    "### 1. Simulation Code [#algorithms, #simulation, #variables, #dataviz]\n",
    "\n",
    "Write code that inputs the initial ($t=0$) populations for predator and prey, parameter values, desired final output time, and time-step size ($h$), and outputs graphs of both predator and prey populations at each time-step on the same plot; final predicted population sizes for both predator and prey. \n",
    "\n",
    "* Write comments for each function you define, specifying inputs and outputs, along with a brief description of what the function does.\n",
    "* Consider your initial parameter inputs. Explain how the result changes as you vary the initial parameters. Can you find a set of initial parameters that produce stable cyclic population dynamics? Explain the significance of this."
   ]
  },
  {
   "cell_type": "code",
   "execution_count": 117,
   "metadata": {},
   "outputs": [
    {
     "data": {
      "image/png": "[encoded data removed]",
      "text/plain": [
       "<Figure size 432x288 with 1 Axes>"
      ]
     },
     "metadata": {},
     "output_type": "display_data"
    }
   ],
   "source": [
    "# import matplotlib to plot the function\n",
    "import matplotlib.pyplot as plt\n",
    "def LK_Simulation():\n",
    "    init_predators= 60 # initial number of predators\n",
    "    init_preys= 300 # initial number of preys\n",
    "    a = 0.49 # alpha\n",
    "    b = 0.009 # beta\n",
    "    c = 0.199 # gamma\n",
    "    d = 0.003 # delta  \n",
    "    step_size = 0.01 # step size\n",
    "    t_0 = 0 # initial time\n",
    "    t_final = 150 # final time\n",
    "    \n",
    "    x = init_preys # x is assigned to initial prey population, as the first element in the list\n",
    "    y = init_predators # y is assigned to initial predator population, as the first element in the list\n",
    "    t = 0     \n",
    "    time = [t] # create a list where we will store specific- updated times\n",
    "    prey = [x] # create a list to store prey population size at each given time\n",
    "    predator= [y] # create a list to store predator population  at each given time\n",
    "    \n",
    "    # iterate for the range of the number of steps\n",
    "    for i in range(1, int(t_final/step_size)):\n",
    "        # Euler's method\n",
    "        # update time with the step-size\n",
    "        t = t+step_size\n",
    "        # update x by using the previous value of x\n",
    "        x = x + step_size*(a*x-b*x*y)\n",
    "        # update y by using the previous value of y\n",
    "        y = y + step_size*(d*x*y-c*y)\n",
    "        \n",
    "        # add the population size of the prey at each step, in the list of preys\n",
    "        prey.append(x) \n",
    "        # add predator population size at each step in the list of predators\n",
    "        predator.append(y)\n",
    "        # add the time at a step, to the list of time-steps\n",
    "        time.append(t)\n",
    "        # plot the number of preys in the function of times\n",
    "    plt.plot(time, prey, label='Prey')\n",
    "    # plot the number of predators in the function of times\n",
    "    plt.plot(time, predator, label='Predator')\n",
    "    # plot important data visualization tools\n",
    "    plt.xlabel('Time')\n",
    "    plt.ylabel('Population')\n",
    "    plt.title('Predator-prey population') \n",
    "    plt.legend()\n",
    "    plt.show() \n",
    "# call the function\n",
    "LK_Simulation()"
   ]
  },
  {
   "cell_type": "markdown",
   "metadata": {},
   "source": [
    "**How to create a stable population?**\n",
    "\n",
    "From changing the initial conditions, we can infer that the interactions between the prey and predator are significant to measure how stable the population will be at the end. For instance, if the death rate of the predators is big, and the interaction coefficients are small, the preys will survive. It is also to consider the initial population size, because having more predators than preys, will most likely end up in the predators surviving, regardless of the interactions."
   ]
  },
  {
   "cell_type": "markdown",
   "metadata": {
    "colab_type": "text",
    "id": "rP3dQlgDi9qF"
   },
   "source": [
    "### 2. Simulation Analysis [#simulation, #modeling]: \n",
    "\n",
    "Write a 500-word paper analyzing this simulation and comparing/contrasting it with the NetLogo Wolf Sheep Predation model from class. Address the following points in your write-up:\n",
    "\n",
    "a) Are there any differences between the assumptions of the Lotka-Volterra model and the assumptions of your simulation? For example, consider whether the model and simulation are continuous or discrete.\n",
    "\n",
    "b) How does your simulation contrast with an analytical approach to deriving the implications of the Lotka-Volterra model?\n",
    "\n",
    "c) Compare and contrast your simulation with the NetLogo Wolf Sheep Predation simulation.\n",
    "\n",
    "* Is each simulation stochastic or deterministic?\n",
    "* Do they have differing assumptions?\n",
    "* Do they give differing results?\n",
    "* Which of them seems to be a more realistic representation of nature? Why?\n"
   ]
  },
  {
   "cell_type": "markdown",
   "metadata": {
    "colab_type": "text",
    "id": "3oWy1Aqhi9qG"
   },
   "source": [
    "**Lotka Volterra Simulation**:\n",
    "\n",
    "\n",
    "\n",
    "* Assumptions: \n",
    "    The model I have used in this simulation is based on Lotka Volterra Mathematical Model. The differences rely on the time, which makes this model discrete but the other one continuous. Since in this model we use a step-size, we take values from specific ranges on time, therefore, this model is discrete. The smaller the step-size, the more accurate the model will be, but for the purposes of space and time we cannot choose \"the smallest\" step size. In continuous models, the accuracy is higher because it is taking into account every possible time. Considering that there is no randomness in this model, we can conclude that the model is deterministic and everytime we input the same variables values, the same output will be produced. \n",
    "* Differences with analytical approach:\n",
    "    The simulation is not as accurate as the mathematical-derivative model. This model uses Euler's method which makes it produce numerical output compared to the differential equations which produce functions. Although with the differential equations we can find the accurate prediction of the nature at any given time, it takes a lot of time and effort to derive the functions. On the other hand, it is very easy to find close approximation by simulation of Euler's method in the computers, with a small step-size. Therefore, for practical solutions we use the simulations based on Euler's method.      \n",
    "* This simulation compared to NetLogo Wolf Sheep Predation Simulation:\n",
    "    Both NetLogo Model and this simulation are discrete. This simulation is deterministic because there is no randomness, thus, every time we put the same values in the initial conditions, we receive the same outcome. In the NetLogo Model, the initial positions are always assigned randomly, which makes it stochastic. The NetLogo Model takes into account more variables, which makes it more realistic compared to this model which uses only the population sizes and the interactions between them. This is why this model is not agent-based, in contrast to NetLogo.\n",
    "\n",
    "\n",
    "\n",
    "\n"
   ]
  },
  {
   "cell_type": "code",
   "execution_count": 118,
   "metadata": {
    "colab": {},
    "colab_type": "code",
    "id": "TzJ04_22i9qJ"
   },
   "outputs": [],
   "source": [
    "# Edit this cell to give your answer\n",
    "# Add more cells (code or markdown) as needed"
   ]
  }
 ],
 "metadata": {
  "colab": {
   "name": "Assignment 2 Algorithms and Simulation Spring 2019 Notebook.ipynb",
   "provenance": [],
   "version": "0.3.2"
  },
  "kernelspec": {
   "display_name": "Python 3",
   "language": "python",
   "name": "python3"
  },
  "language_info": {
   "codemirror_mode": {
    "name": "ipython",
    "version": 3
   },
   "file_extension": ".py",
   "mimetype": "text/x-python",
   "name": "python",
   "nbconvert_exporter": "python",
   "pygments_lexer": "ipython3",
   "version": "3.6.5"
  }
 },
 "nbformat": 4,
 "nbformat_minor": 1
}
